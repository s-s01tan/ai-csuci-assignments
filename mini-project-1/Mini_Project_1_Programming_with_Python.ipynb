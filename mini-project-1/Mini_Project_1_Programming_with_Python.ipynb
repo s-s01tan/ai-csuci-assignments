{
  "nbformat": 4,
  "nbformat_minor": 0,
  "metadata": {
    "colab": {
      "provenance": []
    },
    "kernelspec": {
      "name": "python3",
      "display_name": "Python 3"
    },
    "language_info": {
      "name": "python"
    }
  },
  "cells": [
    {
      "cell_type": "markdown",
      "source": [
        "## COMP 569 - Soltan Soltanli\n",
        "\n",
        "<hr/>\n",
        "\n",
        "### 1) Write a function that gets a list of numbers as input and duplicates the negative numbers in it and returns it"
      ],
      "metadata": {
        "id": "4bBTZ5VE6aJN"
      }
    },
    {
      "cell_type": "code",
      "execution_count": 6,
      "metadata": {
        "colab": {
          "base_uri": "https://localhost:8080/"
        },
        "id": "jlZN42xf5fUH",
        "outputId": "0e77a521-3f68-45c0-9657-b5a697a44972"
      },
      "outputs": [
        {
          "output_type": "stream",
          "name": "stdout",
          "text": [
            "[1, 2, -2, -2, 0, 9, -3, -3]\n",
            "[0, 18, -5, -5]\n"
          ]
        }
      ],
      "source": [
        "def duplicate_negatives(numbers):\n",
        "    result = []\n",
        "    for num in numbers:\n",
        "        result.append(num)\n",
        "        if num < 0:\n",
        "            result.append(num)\n",
        "    return result\n",
        "\n",
        "input1 = [1, 2, -2, 0, 9, -3]\n",
        "output1 = duplicate_negatives(input1)\n",
        "print(output1)\n",
        "\n",
        "input2 = [0, 18, -5]\n",
        "output2 = duplicate_negatives(input2)\n",
        "print(output2)"
      ]
    },
    {
      "cell_type": "markdown",
      "source": [
        "### 2) Write a function that gets a sentence as input and counts the frequency of each character in it and returns the result as a dictionary (Note: convert all the characters to lowercase and ignore white spaces and other non-letter characters)"
      ],
      "metadata": {
        "id": "1OgpEeCQ7UEq"
      }
    },
    {
      "cell_type": "code",
      "source": [
        "import string\n",
        "\n",
        "def count_char_frequency(sentence):\n",
        "    frequency = {}\n",
        "    sentence = sentence.lower()\n",
        "\n",
        "    for char in sentence:\n",
        "        if char in string.ascii_lowercase:\n",
        "            if char in frequency:\n",
        "                frequency[char] += 1\n",
        "            else:\n",
        "                frequency[char] = 1\n",
        "\n",
        "    return frequency\n",
        "\n",
        "input_sentence1 = \"Hello, World!\"\n",
        "output1 = count_char_frequency(input_sentence1)\n",
        "print(output1)\n",
        "\n",
        "input_sentence2 = \"This is a sentence.\"\n",
        "output2 = count_char_frequency(input_sentence2)\n",
        "print(output2)"
      ],
      "metadata": {
        "colab": {
          "base_uri": "https://localhost:8080/"
        },
        "id": "kw_0bLk168TX",
        "outputId": "d0d01b40-a5e7-4ed1-9297-0d72b6712477"
      },
      "execution_count": 2,
      "outputs": [
        {
          "output_type": "stream",
          "name": "stdout",
          "text": [
            "{'h': 1, 'e': 1, 'l': 3, 'o': 2, 'w': 1, 'r': 1, 'd': 1}\n",
            "{'t': 2, 'h': 1, 'i': 2, 's': 3, 'a': 1, 'e': 3, 'n': 2, 'c': 1}\n"
          ]
        }
      ]
    },
    {
      "cell_type": "markdown",
      "source": [
        "### 3) Write a function that gets a list of numbers as input and returns the closest number to the mean(average) value"
      ],
      "metadata": {
        "id": "UWxsS2Aq7idw"
      }
    },
    {
      "cell_type": "code",
      "source": [
        "def closest_to_mean(numbers):\n",
        "    if not numbers:\n",
        "        return None\n",
        "\n",
        "    mean_value = sum(numbers) / len(numbers)\n",
        "\n",
        "    closest_number = min(numbers, key=lambda x: abs(x - mean_value))\n",
        "\n",
        "    return closest_number\n",
        "\n",
        "input1 = [1, 2, -2, 0, 9, -3, -3, 9, 22]\n",
        "output1 = closest_to_mean(input1)\n",
        "print(output1)\n",
        "\n",
        "input2 = [0, 18, -5]\n",
        "output2 = closest_to_mean(input2)\n",
        "print(output2)\n"
      ],
      "metadata": {
        "colab": {
          "base_uri": "https://localhost:8080/"
        },
        "id": "BfSdtQqz7gcG",
        "outputId": "4737590a-2833-40aa-dc6a-3bf0574381f4"
      },
      "execution_count": 3,
      "outputs": [
        {
          "output_type": "stream",
          "name": "stdout",
          "text": [
            "2\n",
            "0\n"
          ]
        }
      ]
    },
    {
      "cell_type": "markdown",
      "source": [
        "### 4) Write a function that takes a list of integers and an integer k, and returns the maximum sum of k consecutive elements in the list."
      ],
      "metadata": {
        "id": "YYf8KZJJ77YC"
      }
    },
    {
      "cell_type": "code",
      "source": [
        "def max_sum_of_k_consecutive(nums, k):\n",
        "    if not nums or k <= 0 or k > len(nums):\n",
        "        return None  # Handle edge cases\n",
        "\n",
        "    max_sum = current_sum = sum(nums[:k])\n",
        "\n",
        "    for i in range(k, len(nums)):\n",
        "        current_sum += nums[i] - nums[i - k]\n",
        "        max_sum = max(max_sum, current_sum)\n",
        "\n",
        "    return max_sum\n",
        "\n",
        "inputs1 = [1, 2, 3, 4, 5]\n",
        "k1 = 3\n",
        "output1 = max_sum_of_k_consecutive(inputs1, k1)\n",
        "print(output1)\n",
        "\n",
        "inputs2 = [2, 3, 5, 2, 8, 1, 5]\n",
        "k2 = 4\n",
        "output2 = max_sum_of_k_consecutive(inputs2, k2)\n",
        "print(output2)"
      ],
      "metadata": {
        "colab": {
          "base_uri": "https://localhost:8080/"
        },
        "id": "Vrum579k79tj",
        "outputId": "9d9800ce-2f8f-4f9d-eae9-7d28e9d9a811"
      },
      "execution_count": 5,
      "outputs": [
        {
          "output_type": "stream",
          "name": "stdout",
          "text": [
            "12\n",
            "18\n"
          ]
        }
      ]
    },
    {
      "cell_type": "markdown",
      "source": [
        "### 5) Write a function that gets two lists and outputs their common elements."
      ],
      "metadata": {
        "id": "CtagTj8g8fDC"
      }
    },
    {
      "cell_type": "code",
      "source": [
        "def common_elements(list1, list2):\n",
        "    common = []\n",
        "\n",
        "    list2_copy = list2.copy()\n",
        "\n",
        "    for item in list1:\n",
        "        if item in list2_copy:\n",
        "            common.append(item)\n",
        "            list2_copy.remove(item)\n",
        "\n",
        "    return common\n",
        "\n",
        "list1 = [66, 23, 1, 0, 1, 9]\n",
        "list2 = [5, 55, 1, 12]\n",
        "output1 = common_elements(list1, list2)\n",
        "print(output1)\n",
        "\n",
        "list3 = [66, 66, 66, 23, 1, 0, 1, 9]\n",
        "list4 = [66, 66, 5, 55, 1, 12]\n",
        "output2 = common_elements(list3, list4)\n",
        "print(output2)"
      ],
      "metadata": {
        "colab": {
          "base_uri": "https://localhost:8080/"
        },
        "id": "e-4yxynu8gLM",
        "outputId": "85673061-5ee2-44ec-e324-d3d8ed7bd789"
      },
      "execution_count": 7,
      "outputs": [
        {
          "output_type": "stream",
          "name": "stdout",
          "text": [
            "[1]\n",
            "[66, 66, 1]\n"
          ]
        }
      ]
    },
    {
      "cell_type": "markdown",
      "source": [
        "### 6) Write a function that takes a list of numbers and returns its median. For this task, you must compute the median manually and cannot use any built-in functions to directly calculate it."
      ],
      "metadata": {
        "id": "ldye4kE28omP"
      }
    },
    {
      "cell_type": "code",
      "source": [
        "def calculate_median(numbers):\n",
        "    for i in range(len(numbers)):\n",
        "        min_index = i\n",
        "        for j in range(i + 1, len(numbers)):\n",
        "            if numbers[j] < numbers[min_index]:\n",
        "                min_index = j\n",
        "\n",
        "        numbers[i], numbers[min_index] = numbers[min_index], numbers[i]\n",
        "\n",
        "    n = len(numbers)\n",
        "    mid = n // 2\n",
        "\n",
        "    if n % 2 == 1:\n",
        "        return numbers[mid]\n",
        "    else:\n",
        "        return (numbers[mid - 1] + numbers[mid]) / 2\n",
        "\n",
        "input1 = [13, 7, 5, 21, 18]\n",
        "output1 = calculate_median(input1)\n",
        "print(output1)\n",
        "\n",
        "input2 = [12, 13, 23, 44, 56, 73]\n",
        "output2 = calculate_median(input2)\n",
        "print(output2)"
      ],
      "metadata": {
        "colab": {
          "base_uri": "https://localhost:8080/"
        },
        "id": "jCLbdoqp8rjJ",
        "outputId": "7b872501-c035-48f5-882e-ac4ea1196256"
      },
      "execution_count": 8,
      "outputs": [
        {
          "output_type": "stream",
          "name": "stdout",
          "text": [
            "13\n",
            "33.5\n"
          ]
        }
      ]
    },
    {
      "cell_type": "markdown",
      "source": [
        "### 7) Write a function that gets a number(int) and returns the two's complement of it"
      ],
      "metadata": {
        "id": "0LsQ9QpA9D3A"
      }
    },
    {
      "cell_type": "code",
      "source": [
        "def twos_complement(num, bits=32):\n",
        "    if num >= 0:\n",
        "        return num\n",
        "    else:\n",
        "        return (1 << bits) + num\n",
        "\n",
        "num1 = 5\n",
        "output1 = twos_complement(num1)\n",
        "print(f\"Two's complement of {num1} is: {output1}\")\n",
        "\n",
        "num2 = -5\n",
        "output2 = twos_complement(num2)\n",
        "print(f\"Two's complement of {num2} is: {output2}\")"
      ],
      "metadata": {
        "colab": {
          "base_uri": "https://localhost:8080/"
        },
        "id": "rdasmylK9FX1",
        "outputId": "992fbca4-41f6-430c-8ecf-2e787ca95420"
      },
      "execution_count": 10,
      "outputs": [
        {
          "output_type": "stream",
          "name": "stdout",
          "text": [
            "Two's complement of 5 is: 5\n",
            "Two's complement of -5 is: 4294967291\n"
          ]
        }
      ]
    },
    {
      "cell_type": "markdown",
      "source": [
        "### 8) Write a function that takes an array of integers and returns the length of the longest consecutive elements sequence."
      ],
      "metadata": {
        "id": "AyyexQFg9ih-"
      }
    },
    {
      "cell_type": "code",
      "source": [
        "def longest_consecutive_sequence(nums):\n",
        "    if not nums:\n",
        "        return 0\n",
        "\n",
        "    num_set = set(nums)\n",
        "    longest_streak = 0\n",
        "\n",
        "    for num in num_set:\n",
        "        if num - 1 not in num_set:\n",
        "            current_num = num\n",
        "            current_streak = 1\n",
        "\n",
        "            while current_num + 1 in num_set:\n",
        "                current_num += 1\n",
        "                current_streak += 1\n",
        "\n",
        "            longest_streak = max(longest_streak, current_streak)\n",
        "\n",
        "    return longest_streak\n",
        "\n",
        "input1 = [100, 4, 200, 1, 3, 2]\n",
        "output1 = longest_consecutive_sequence(input1)\n",
        "print(output1)\n",
        "\n",
        "input2 = [10, 5, 12, 3, 55, 30]\n",
        "output2 = longest_consecutive_sequence(input2)\n",
        "print(output2)"
      ],
      "metadata": {
        "colab": {
          "base_uri": "https://localhost:8080/"
        },
        "id": "n1w5iKnN9l1R",
        "outputId": "1a26c011-363c-4e44-94e1-338ae89d3fc7"
      },
      "execution_count": 11,
      "outputs": [
        {
          "output_type": "stream",
          "name": "stdout",
          "text": [
            "4\n",
            "1\n"
          ]
        }
      ]
    },
    {
      "cell_type": "markdown",
      "source": [
        "### 9) Write a function that takes a string and compresses it using the counts of repeated characters."
      ],
      "metadata": {
        "id": "AiTUgob3-Q_Y"
      }
    },
    {
      "cell_type": "code",
      "source": [
        "def compress_string(s):\n",
        "    if not s:\n",
        "        return \"\"\n",
        "\n",
        "    compressed = []\n",
        "    count = 1\n",
        "\n",
        "    for i in range(1, len(s)):\n",
        "        if s[i] == s[i - 1]:\n",
        "            count += 1\n",
        "        else:\n",
        "            compressed.append(s[i - 1] + str(count))\n",
        "            count = 1\n",
        "\n",
        "    compressed.append(s[-1] + str(count))\n",
        "\n",
        "    return ''.join(compressed)\n",
        "\n",
        "input1 = \"aabcccccaaa\"\n",
        "output1 = compress_string(input1)\n",
        "print(output1)\n",
        "\n",
        "input2 = \"ppPPpPP\"\n",
        "output2 = compress_string(input2)\n",
        "print(output2)"
      ],
      "metadata": {
        "colab": {
          "base_uri": "https://localhost:8080/"
        },
        "id": "bFBrXYTr-TIH",
        "outputId": "5301129d-4ca6-406a-b644-a06faa149ccb"
      },
      "execution_count": 12,
      "outputs": [
        {
          "output_type": "stream",
          "name": "stdout",
          "text": [
            "a2b1c5a3\n",
            "p2P2p1P2\n"
          ]
        }
      ]
    },
    {
      "cell_type": "markdown",
      "source": [
        "### 10) Write a function that takes a square matrix (2D list) and rotates it 90 degrees clockwise."
      ],
      "metadata": {
        "id": "IDt4zuUh-h9B"
      }
    },
    {
      "cell_type": "code",
      "source": [
        "def rotate_matrix_90_clockwise(matrix):\n",
        "    n = len(matrix)\n",
        "\n",
        "    for i in range(n):\n",
        "        for j in range(i, n):\n",
        "            matrix[i][j], matrix[j][i] = matrix[j][i], matrix[i][j]\n",
        "\n",
        "    for i in range(n):\n",
        "        matrix[i].reverse()\n",
        "\n",
        "    return matrix\n",
        "\n",
        "input_matrix = [\n",
        "    [1, 2, 3],\n",
        "    [4, 5, 6],\n",
        "    [7, 8, 9]\n",
        "]\n",
        "\n",
        "output_matrix = rotate_matrix_90_clockwise(input_matrix)\n",
        "for row in output_matrix:\n",
        "    print(row)"
      ],
      "metadata": {
        "colab": {
          "base_uri": "https://localhost:8080/"
        },
        "id": "poj7vQ5N-ljs",
        "outputId": "22b09f67-42fe-429a-a7c0-31941325e8ca"
      },
      "execution_count": 13,
      "outputs": [
        {
          "output_type": "stream",
          "name": "stdout",
          "text": [
            "[7, 4, 1]\n",
            "[8, 5, 2]\n",
            "[9, 6, 3]\n"
          ]
        }
      ]
    },
    {
      "cell_type": "markdown",
      "source": [
        "### My fav one was 10th one!"
      ],
      "metadata": {
        "id": "ykZOGkVG-rtw"
      }
    }
  ]
}