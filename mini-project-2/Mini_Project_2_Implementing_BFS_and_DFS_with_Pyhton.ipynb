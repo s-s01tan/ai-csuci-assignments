{
  "nbformat": 4,
  "nbformat_minor": 0,
  "metadata": {
    "colab": {
      "provenance": []
    },
    "kernelspec": {
      "name": "python3",
      "display_name": "Python 3"
    },
    "language_info": {
      "name": "python"
    }
  },
  "cells": [
    {
      "cell_type": "markdown",
      "source": [
        "## COMP 569 - Harpreet Kaur & Soltan Soltanli\n",
        "\n",
        "<hr/>\n",
        "\n",
        "### 1) The function which will generate Grid based on given inputs (Sizes)"
      ],
      "metadata": {
        "id": "4bBTZ5VE6aJN"
      }
    },
    {
      "cell_type": "code",
      "source": [
        "import random\n",
        "\n",
        "# --- This function generates dynamic grid with random values ---\n",
        "# --- But to keep it simple, we will put static grid ---\n",
        "\n",
        "def generate_grid(rows, cols):\n",
        "    grid = [[1 if r == 0 or r == rows - 1 or c == 0 or c == cols - 1 else random.choice([0, 1])\n",
        "             for c in range(cols)] for r in range(rows)]\n",
        "\n",
        "    r_pos = (random.randint(1, rows - 2), random.randint(1, cols - 2))\n",
        "    d_pos = r_pos\n",
        "    while d_pos == r_pos:\n",
        "        d_pos = (random.randint(1, rows - 2), random.randint(1, cols - 2))\n",
        "\n",
        "    grid[r_pos[0]][r_pos[1]] = 'R'\n",
        "    grid[d_pos[0]][d_pos[1]] = 'D'\n",
        "\n",
        "    return grid\n",
        "\n",
        "# Dynamic Grid\n",
        "grid = generate_grid(20, 20)\n",
        "\n",
        "# Static Grid (the one in presentation)\n",
        "# grid = [\n",
        "#     [1, 1, 1, 1, 1, 1, 1, 1, 1],\n",
        "#     [1, 0, 0, 0, 1, 0, 0, 0, 1],\n",
        "#     [1, 0, 0, 0, 1, 0, 0, 'R', 1],\n",
        "#     [1, 0, 0, 0, 0, 0, 0, 0, 1],\n",
        "#     [1, 0, 0, 0, 0, 1, 0, 0, 1],\n",
        "#     [1, 1, 1, 0, 0, 1, 0, 0, 1],\n",
        "#     [1, 1, 1, 0, 0, 1, 1, 1, 1],\n",
        "#     [1, 1, 0, 0, 0, 0, 0, 'D', 1],\n",
        "#     [1, 1, 1, 1, 1, 1, 1, 1, 1]]\n",
        "\n",
        "for row in grid:\n",
        "    print(row)"
      ],
      "metadata": {
        "colab": {
          "base_uri": "https://localhost:8080/"
        },
        "id": "2z5UGrlB4BVQ",
        "outputId": "b06948c3-b123-41b3-96b0-ab2584e3495c"
      },
      "execution_count": 318,
      "outputs": [
        {
          "output_type": "stream",
          "name": "stdout",
          "text": [
            "[1, 1, 1, 1, 1, 1, 1, 1, 1, 1, 1, 1, 1, 1, 1, 1, 1, 1, 1, 1]\n",
            "[1, 0, 1, 1, 0, 1, 1, 1, 0, 0, 0, 1, 1, 0, 0, 1, 1, 1, 1, 1]\n",
            "[1, 0, 1, 1, 0, 0, 1, 1, 0, 0, 1, 0, 0, 0, 1, 0, 1, 1, 1, 1]\n",
            "[1, 0, 0, 1, 1, 1, 0, 1, 1, 1, 1, 1, 1, 0, 1, 0, 0, 1, 1, 1]\n",
            "[1, 1, 0, 1, 0, 0, 1, 1, 0, 1, 1, 0, 1, 1, 0, 0, 'D', 1, 1, 1]\n",
            "[1, 0, 0, 0, 1, 1, 1, 1, 1, 0, 1, 0, 0, 1, 0, 0, 0, 1, 0, 1]\n",
            "[1, 1, 0, 1, 1, 1, 0, 1, 1, 1, 0, 1, 0, 0, 'R', 0, 0, 0, 1, 1]\n",
            "[1, 0, 0, 1, 1, 1, 1, 1, 1, 0, 1, 1, 1, 1, 1, 0, 0, 0, 0, 1]\n",
            "[1, 1, 1, 1, 0, 1, 0, 1, 1, 0, 1, 0, 0, 0, 0, 1, 0, 0, 1, 1]\n",
            "[1, 1, 1, 0, 0, 0, 1, 1, 0, 1, 1, 0, 0, 0, 1, 0, 0, 1, 1, 1]\n",
            "[1, 1, 1, 1, 0, 0, 1, 0, 0, 0, 0, 0, 1, 1, 1, 1, 1, 0, 1, 1]\n",
            "[1, 0, 1, 0, 1, 0, 1, 0, 0, 1, 0, 1, 0, 0, 1, 0, 0, 1, 0, 1]\n",
            "[1, 0, 0, 1, 1, 0, 1, 0, 1, 0, 1, 1, 0, 1, 0, 0, 1, 0, 1, 1]\n",
            "[1, 0, 0, 0, 0, 1, 1, 1, 0, 1, 0, 1, 1, 1, 1, 1, 0, 1, 1, 1]\n",
            "[1, 0, 0, 1, 0, 0, 0, 0, 0, 1, 0, 1, 1, 0, 0, 1, 0, 1, 1, 1]\n",
            "[1, 0, 1, 1, 1, 1, 0, 0, 1, 1, 0, 1, 1, 1, 1, 1, 0, 1, 0, 1]\n",
            "[1, 0, 0, 1, 0, 1, 1, 1, 1, 1, 1, 0, 1, 0, 0, 0, 0, 0, 0, 1]\n",
            "[1, 1, 0, 0, 0, 0, 0, 1, 0, 0, 1, 0, 1, 0, 1, 1, 1, 1, 1, 1]\n",
            "[1, 0, 1, 1, 0, 0, 0, 1, 1, 1, 0, 1, 1, 1, 0, 0, 1, 0, 1, 1]\n",
            "[1, 1, 1, 1, 1, 1, 1, 1, 1, 1, 1, 1, 1, 1, 1, 1, 1, 1, 1, 1]\n"
          ]
        }
      ]
    },
    {
      "cell_type": "markdown",
      "source": [
        "### 2) Movements"
      ],
      "metadata": {
        "id": "p6a9KvK2IMo1"
      }
    },
    {
      "cell_type": "code",
      "source": [
        "from collections import deque\n",
        "\n",
        "directions = [(-1, 0), (1, 0), (0, -1), (0, 1)]"
      ],
      "metadata": {
        "id": "CoJVHya0rhjd"
      },
      "execution_count": 319,
      "outputs": []
    },
    {
      "cell_type": "markdown",
      "source": [
        "### 3) Getting Start and Goal coordinates"
      ],
      "metadata": {
        "id": "6ywv-NGZruv_"
      }
    },
    {
      "cell_type": "code",
      "source": [
        "start_loc = None\n",
        "goal_loc = None\n",
        "\n",
        "rows, cols = len(grid), len(grid[0])\n",
        "\n",
        "for i in range(rows):\n",
        "    for j in range(cols):\n",
        "        if grid[i][j] == 'R':\n",
        "            start_loc = (i, j)\n",
        "        if grid[i][j] == 'D':\n",
        "            goal_loc = (i, j)\n",
        "\n",
        "if not start_loc or not goal_loc:\n",
        "    print(\"Invalid grid, no start or goal point found.\")\n",
        "\n",
        "print(\"Start (R):\", start_loc)\n",
        "print(\"Goal (D):\", goal_loc)"
      ],
      "metadata": {
        "colab": {
          "base_uri": "https://localhost:8080/"
        },
        "id": "H6pJqPiHrwcc",
        "outputId": "9369b257-26e0-46dc-aa63-c41270dadbd3"
      },
      "execution_count": 320,
      "outputs": [
        {
          "output_type": "stream",
          "name": "stdout",
          "text": [
            "Start (R): (6, 14)\n",
            "Goal (D): (4, 16)\n"
          ]
        }
      ]
    },
    {
      "cell_type": "markdown",
      "source": [
        "### 4) Check if the current location is the goal"
      ],
      "metadata": {
        "id": "zdHoVRhNsU3V"
      }
    },
    {
      "cell_type": "code",
      "source": [
        "def goal_test(current_loc, goal_loc):\n",
        "    return current_loc == goal_loc"
      ],
      "metadata": {
        "id": "84BJiqfer6Jb"
      },
      "execution_count": 321,
      "outputs": []
    },
    {
      "cell_type": "markdown",
      "source": [
        "### 5) Successor function: Generates valid next moves (sliding and stepping)"
      ],
      "metadata": {
        "id": "2hA7SyZKsazA"
      }
    },
    {
      "cell_type": "code",
      "source": [
        "def successor_fcn(grid, current_node):\n",
        "    x, y = current_node['location']\n",
        "    successors = []\n",
        "\n",
        "    # Step movement\n",
        "    for dx, dy in directions:\n",
        "        nx, ny = x + dx, y + dy\n",
        "\n",
        "        # Valid step move\n",
        "        if grid[nx][ny] == 0 or grid[nx][ny] == 'D':\n",
        "            successors.append(\n",
        "                {\n",
        "                    'location': (nx, ny),\n",
        "                    'parent': current_node,\n",
        "                    'cost': current_node['cost'] + 1\n",
        "                }\n",
        "            )\n",
        "\n",
        "    # Slide movement\n",
        "    for dx, dy in directions:\n",
        "        nx, ny = x, y\n",
        "\n",
        "        while grid[nx + dx][ny + dy] == 0:\n",
        "            nx += dx\n",
        "            ny += dy\n",
        "\n",
        "        # Valid slide move\n",
        "        if grid[nx][ny] == 'D' or (nx, ny) != (x, y):\n",
        "            successors.append(\n",
        "                {\n",
        "                    'location': (nx, ny),\n",
        "                    'parent': current_node,\n",
        "                    'cost': current_node['cost'] + 1\n",
        "                }\n",
        "            )\n",
        "\n",
        "    return successors"
      ],
      "metadata": {
        "id": "qbYFQVgTr7LT"
      },
      "execution_count": 322,
      "outputs": []
    },
    {
      "cell_type": "markdown",
      "source": [
        "### 6) Extract plan from the final node"
      ],
      "metadata": {
        "id": "txvk8jmmvr8H"
      }
    },
    {
      "cell_type": "code",
      "source": [
        "def extract_plan(current_node):\n",
        "    plan = []\n",
        "    while current_node:\n",
        "        plan.append(current_node['location'])\n",
        "        current_node = current_node['parent']\n",
        "    return plan[::-1]  # Reverse the plan to get from start to goal"
      ],
      "metadata": {
        "id": "wen1jSLEr7fn"
      },
      "execution_count": 323,
      "outputs": []
    },
    {
      "cell_type": "markdown",
      "source": [
        "### 7) BFS function to find the plan"
      ],
      "metadata": {
        "id": "lzDOzMR4v6F1"
      }
    },
    {
      "cell_type": "code",
      "source": [
        "def find_plan_bfs(grid, start_loc, goal_loc):\n",
        "    # Start state\n",
        "    start_node = {\n",
        "        'location': start_loc,\n",
        "        'parent': None,\n",
        "        'cost': 0\n",
        "    }\n",
        "\n",
        "    # Fringe\n",
        "    fringe = deque([start_node])\n",
        "\n",
        "    # Visited set to keep track of explored nodes\n",
        "    visited = set()\n",
        "    visited.add(start_loc)\n",
        "\n",
        "    while fringe:\n",
        "        current_node = fringe.popleft()\n",
        "        current_loc = current_node['location']\n",
        "\n",
        "        # Check if we've reached the goal\n",
        "        if goal_test(current_loc, goal_loc):\n",
        "            return extract_plan(current_node), current_node['cost']\n",
        "\n",
        "        # Get the successors and add them to the fringe\n",
        "        for successor in successor_fcn(grid, current_node):\n",
        "            if successor['location'] not in visited:\n",
        "                visited.add(successor['location'])\n",
        "                fringe.append(successor)\n",
        "\n",
        "    return \"No path found\", None"
      ],
      "metadata": {
        "id": "_9BqyNXDr7r3"
      },
      "execution_count": 324,
      "outputs": []
    },
    {
      "cell_type": "markdown",
      "source": [
        "### 8) DFS function to find the plan"
      ],
      "metadata": {
        "id": "XC5gaD9OxpuR"
      }
    },
    {
      "cell_type": "code",
      "source": [
        "def find_plan_dfs(grid, start_loc, goal_loc):\n",
        "    # Start state\n",
        "    start_node = {\n",
        "        'location': start_loc,\n",
        "        'parent': None,\n",
        "        'cost': 0\n",
        "    }\n",
        "\n",
        "    # Fringe\n",
        "    fringe = [start_node]\n",
        "\n",
        "    # Visited set to keep track of explored nodes\n",
        "    visited = set()\n",
        "    visited.add(start_loc)\n",
        "\n",
        "    while fringe:\n",
        "        current_node = fringe.pop()\n",
        "        current_loc = current_node['location']\n",
        "\n",
        "        # Check if we've reached the goal\n",
        "        if goal_test(current_loc, goal_loc):\n",
        "            return extract_plan(current_node), current_node['cost']\n",
        "\n",
        "        # Get the successors and add them to the fringe\n",
        "        for successor in successor_fcn(grid, current_node):\n",
        "            if successor['location'] not in visited:\n",
        "                visited.add(successor['location'])\n",
        "                fringe.append(successor)\n",
        "\n",
        "    return \"No path found\", None"
      ],
      "metadata": {
        "id": "AKEpCfykxsvu"
      },
      "execution_count": 325,
      "outputs": []
    },
    {
      "cell_type": "markdown",
      "source": [
        "### 9) Run Time!"
      ],
      "metadata": {
        "id": "U8LWm4MWxtKT"
      }
    },
    {
      "cell_type": "code",
      "source": [
        "# BFS\n",
        "print('BFS')\n",
        "plan_bfs, cost_bfs = find_plan_bfs(grid, start_loc, goal_loc)\n",
        "print(\"Plan:\", plan_bfs)\n",
        "print(\"Cost:\", cost_bfs)\n",
        "\n",
        "# DFS\n",
        "print('\\nDFS')\n",
        "plan_dfs, cost_dfs = find_plan_dfs(grid, start_loc, goal_loc)\n",
        "print(\"Plan:\", plan_dfs)\n",
        "print(\"Cost:\", cost_dfs)\n"
      ],
      "metadata": {
        "colab": {
          "base_uri": "https://localhost:8080/"
        },
        "id": "A20kSQCyxpAF",
        "outputId": "348d5ff5-8649-4b6d-c4db-b7a20999e369"
      },
      "execution_count": 326,
      "outputs": [
        {
          "output_type": "stream",
          "name": "stdout",
          "text": [
            "BFS\n",
            "Plan: [(6, 14), (5, 14), (5, 16), (4, 16)]\n",
            "Cost: 3\n",
            "\n",
            "DFS\n",
            "Plan: [(6, 14), (6, 17), (8, 17), (8, 16), (5, 16), (4, 16)]\n",
            "Cost: 5\n"
          ]
        }
      ]
    },
    {
      "cell_type": "markdown",
      "source": [
        "### 10) Comparison and Analysis\n"
      ],
      "metadata": {
        "id": "S0ncPXKV5KT4"
      }
    },
    {
      "cell_type": "code",
      "source": [
        "if cost_bfs is None or cost_dfs is None:\n",
        "    print(\"No path found. So we cannot summarize anything. Please try the different grid.\")\n",
        "else:\n",
        "    best_algorithm = \"BFS\" if cost_bfs < cost_dfs else \"DFS\"\n",
        "    best_cost = cost_bfs if cost_bfs < cost_dfs else cost_dfs\n",
        "\n",
        "    worst_algorithm = \"BFS\" if cost_bfs > cost_dfs else \"DFS\"\n",
        "    worst_cost = cost_bfs if cost_bfs > cost_dfs else cost_dfs\n",
        "\n",
        "    is_equal = cost_bfs == cost_dfs\n",
        "\n",
        "    print(\"To decide which one is more efficient, we can take a look at the costs.\")\n",
        "\n",
        "    if is_equal:\n",
        "        print(\"They both (BFS & DFS) needed the same cost to reach destination.\")\n",
        "    else:\n",
        "        print(f\"As you can see, to reach destination, {best_algorithm} took less cost ({best_cost}) than {worst_algorithm} ({worst_cost}).\")"
      ],
      "metadata": {
        "colab": {
          "base_uri": "https://localhost:8080/"
        },
        "id": "88TmxqU555SW",
        "outputId": "73ca8761-8912-42c4-9b19-5efa95e34fbf"
      },
      "execution_count": 327,
      "outputs": [
        {
          "output_type": "stream",
          "name": "stdout",
          "text": [
            "To decide which one is more efficient, we can take a look at the costs.\n",
            "As you can see, to reach destination, BFS took less cost (3) than DFS (5).\n"
          ]
        }
      ]
    }
  ]
}