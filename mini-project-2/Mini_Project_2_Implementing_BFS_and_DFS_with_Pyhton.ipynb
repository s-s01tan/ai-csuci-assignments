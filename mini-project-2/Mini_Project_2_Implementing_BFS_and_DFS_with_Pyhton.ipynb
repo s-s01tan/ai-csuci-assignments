{
  "nbformat": 4,
  "nbformat_minor": 0,
  "metadata": {
    "colab": {
      "provenance": []
    },
    "kernelspec": {
      "name": "python3",
      "display_name": "Python 3"
    },
    "language_info": {
      "name": "python"
    }
  },
  "cells": [
    {
      "cell_type": "markdown",
      "source": [
        "## COMP 569 - Harpreet Kur & Soltan Soltanli\n",
        "\n",
        "<hr/>\n",
        "\n",
        "### 1) The function which will generate Grid based on given inputs (Sizes)"
      ],
      "metadata": {
        "id": "4bBTZ5VE6aJN"
      }
    },
    {
      "cell_type": "code",
      "source": [
        "import random\n",
        "\n",
        "def generate_grid(rows, cols):\n",
        "    grid = [[random.choice([0, 1]) for _ in range(cols)] for _ in range(rows)]\n",
        "\n",
        "    r_pos = (random.randint(0, rows - 1), random.randint(0, cols - 1))\n",
        "    d_pos = r_pos\n",
        "    while d_pos == r_pos:\n",
        "        d_pos = (random.randint(0, rows - 1), random.randint(0, cols - 1))\n",
        "\n",
        "    grid[r_pos[0]][r_pos[1]] = 'R'\n",
        "    grid[d_pos[0]][d_pos[1]] = 'D'\n",
        "\n",
        "    return grid\n",
        "\n",
        "grid = generate_grid(10, 10)\n",
        "\n",
        "for row in grid:\n",
        "    print(row)"
      ],
      "metadata": {
        "colab": {
          "base_uri": "https://localhost:8080/"
        },
        "id": "2z5UGrlB4BVQ",
        "outputId": "20e2ece0-5e06-4cc4-a037-1df89fe0c9fc"
      },
      "execution_count": 98,
      "outputs": [
        {
          "output_type": "stream",
          "name": "stdout",
          "text": [
            "[1, 0, 0, 1, 1, 0, 0, 0, 1, 0]\n",
            "[1, 0, 1, 0, 0, 1, 0, 1, 1, 0]\n",
            "[1, 1, 0, 0, 0, 1, 1, 1, 0, 0]\n",
            "[1, 0, 1, 0, 0, 1, 1, 1, 1, 0]\n",
            "[0, 1, 0, 1, 0, 0, 0, 1, 'D', 0]\n",
            "[1, 0, 0, 0, 1, 1, 0, 0, 1, 1]\n",
            "[0, 0, 1, 1, 1, 1, 0, 0, 0, 0]\n",
            "[0, 0, 0, 1, 1, 0, 'R', 0, 0, 0]\n",
            "[1, 1, 1, 1, 0, 0, 0, 0, 1, 0]\n",
            "[1, 0, 0, 1, 0, 1, 1, 1, 1, 0]\n"
          ]
        }
      ]
    },
    {
      "cell_type": "markdown",
      "source": [
        "### 2) Movements"
      ],
      "metadata": {
        "id": "p6a9KvK2IMo1"
      }
    },
    {
      "cell_type": "code",
      "source": [
        "normal_moves = [(0, 1), (0, -1), (1, 0), (-1, 0)] # Up, Down, Left, Right\n",
        "sliding_moves = [(0, 1), (0, -1), (1, 0), (-1, 0)] # Up, Down, Left, Right"
      ],
      "metadata": {
        "id": "XkqrRPJJINh3"
      },
      "execution_count": 109,
      "outputs": []
    },
    {
      "cell_type": "markdown",
      "source": [
        "### 3) Getting Start and Goal coordinates"
      ],
      "metadata": {
        "id": "pRf-B0dpKFQj"
      }
    },
    {
      "cell_type": "code",
      "source": [
        "start = None\n",
        "goal = None\n",
        "\n",
        "rows, cols = len(grid), len(grid[0])\n",
        "\n",
        "for i in range(rows):\n",
        "    for j in range(cols):\n",
        "        if grid[i][j] == 'R':\n",
        "            start = (i, j)\n",
        "        if grid[i][j] == 'D':\n",
        "            goal = (i, j)\n",
        "\n",
        "if not start or not goal:\n",
        "    print(\"Invalid grid, no start or goal point found.\")\n",
        "\n",
        "print(\"Start (R):\", start)\n",
        "print(\"Goal (D):\", goal)"
      ],
      "metadata": {
        "colab": {
          "base_uri": "https://localhost:8080/"
        },
        "id": "0LoT-L3oKI3R",
        "outputId": "4c0a0aaf-bd76-4a4d-ae18-b4e908681447"
      },
      "execution_count": 102,
      "outputs": [
        {
          "output_type": "stream",
          "name": "stdout",
          "text": [
            "Start (R): (7, 6)\n",
            "Goal (D): (4, 8)\n"
          ]
        }
      ]
    },
    {
      "cell_type": "markdown",
      "source": [
        "### 4) BFS Section"
      ],
      "metadata": {
        "id": "NWTnelmI7NMz"
      }
    },
    {
      "cell_type": "code",
      "source": [
        "from collections import deque\n",
        "\n",
        "def bfs(start, goal):\n",
        "    queue = deque([start])\n",
        "\n",
        "    # We have to keep tracking the nodes we've already visited (uniquely)\n",
        "    visited = set()\n",
        "    visited.add(start)\n",
        "\n",
        "    parent = {}\n",
        "    node_count = 0\n",
        "\n",
        "    while queue:\n",
        "        node = queue.popleft()\n",
        "        node_count += 1\n",
        "        if node == goal:\n",
        "            break\n",
        "\n",
        "        # Sliding Moves\n",
        "        for direction in sliding_moves:\n",
        "            slide_x, slide_y = node\n",
        "            while True:\n",
        "                # Moving here...\n",
        "                next_x = slide_x + direction[0]\n",
        "                next_y = slide_y + direction[1]\n",
        "\n",
        "                # Validating for boundary or crater ('1')\n",
        "                if (0 <= next_x < len(grid) and 0 <= next_y < len(grid[0]) and grid[next_x][next_y] != '1'):\n",
        "                    slide_x, slide_y = next_x, next_y\n",
        "\n",
        "                    # We check if whether we've traversed in this node\n",
        "                    if (slide_x, slide_y) not in visited:\n",
        "                        visited.add((slide_x, slide_y))\n",
        "                        queue.append((slide_x, slide_y))\n",
        "                        parent[(slide_x, slide_y)] = node\n",
        "                else:\n",
        "                    break\n",
        "\n",
        "        # Normal Moves\n",
        "        for direction in normal_moves:\n",
        "\n",
        "            # Moving here...\n",
        "            next_x = node[0] + direction[0]\n",
        "            next_y = node[1] + direction[1]\n",
        "\n",
        "            # Validating for boundary or crater ('1'), also if whether we've traversed in this node\n",
        "            if (0 <= next_x < len(grid) and 0 <= next_y < len(grid[0]) and grid[next_x][next_y] != '1' and (next_x, next_y) not in visited):\n",
        "                visited.add((next_x, next_y))\n",
        "                queue.append((next_x, next_y))\n",
        "                parent[(next_x, next_y)] = node\n",
        "\n",
        "    # Finding the whole backtrack path\n",
        "    path = []\n",
        "\n",
        "    # When we are in Goal (D)\n",
        "    if node == goal:\n",
        "        while node in parent:\n",
        "            path.append(node)\n",
        "            node = parent[node]\n",
        "        path.append(start)\n",
        "        path.reverse()\n",
        "    return path, node_count"
      ],
      "metadata": {
        "id": "eV2YtuPbDKPG"
      },
      "execution_count": 111,
      "outputs": []
    },
    {
      "cell_type": "markdown",
      "source": [
        "### 5) DFS Section"
      ],
      "metadata": {
        "id": "DRv7tvraIavd"
      }
    },
    {
      "cell_type": "code",
      "source": [
        "def dfs(start, goal):\n",
        "    stack = [start]\n",
        "\n",
        "    # We have to keep tracking the nodes we've already visited (uniquely)\n",
        "    visited = set()\n",
        "    visited.add(start)\n",
        "\n",
        "    parent = {}\n",
        "    node_count = 0\n",
        "\n",
        "    while stack:\n",
        "        node = stack.pop()\n",
        "        node_count += 1\n",
        "        if node == goal:\n",
        "            break\n",
        "\n",
        "        # Sliding Moves\n",
        "        for direction in [(-1, 0), (1, 0), (0, -1), (0, 1)]:\n",
        "            slide_x, slide_y = node\n",
        "            while True:\n",
        "                # Moving Here...\n",
        "                next_x = slide_x + direction[0]\n",
        "                next_y = slide_y + direction[1]\n",
        "\n",
        "                # Validating for boundary or crater ('1')\n",
        "                if (0 <= next_x < len(grid) and 0 <= next_y < len(grid[0]) and grid[next_x][next_y] != '1'):\n",
        "                    slide_x, slide_y = next_x, next_y\n",
        "\n",
        "                    # We check if whether we've traversed in this node\n",
        "                    if (slide_x, slide_y) not in visited:\n",
        "                        visited.add((slide_x, slide_y))\n",
        "                        stack.append((slide_x, slide_y))\n",
        "                        parent[(slide_x, slide_y)] = node\n",
        "                else:\n",
        "                    break\n",
        "\n",
        "        # Normal Moves\n",
        "        for direction in normal_moves:\n",
        "            # Moving Here...\n",
        "            next_x = node[0] + direction[0]\n",
        "            next_y = node[1] + direction[1]\n",
        "\n",
        "            # Validating for boundary or crater ('1'), also if whether we've traversed in this node\n",
        "            if (0 <= next_x < len(grid) and 0 <= next_y < len(grid[0]) and grid[next_x][next_y] != '1' and (next_x, next_y) not in visited):\n",
        "                visited.add((next_x, next_y))\n",
        "                stack.append((next_x, next_y))\n",
        "                parent[(next_x, next_y)] = node\n",
        "\n",
        "    # Finding the whole backtrack path\n",
        "    path = []\n",
        "\n",
        "    # When we are in Goal (D)\n",
        "    if node == goal:\n",
        "        while node in parent:\n",
        "            path.append(node)\n",
        "            node = parent[node]\n",
        "        path.append(start)\n",
        "        path.reverse()\n",
        "    return path, node_count"
      ],
      "metadata": {
        "id": "Lnx9mLwXIcfK"
      },
      "execution_count": 114,
      "outputs": []
    },
    {
      "cell_type": "markdown",
      "source": [
        "### 6) Implementation and Comparison"
      ],
      "metadata": {
        "id": "-E8p4YtkJFZ4"
      }
    },
    {
      "cell_type": "code",
      "source": [
        "# BFS\n",
        "bfs_path, bfs_nodes_explored = bfs(start, goal)\n",
        "\n",
        "print(\"BFS Results:\")\n",
        "print(\"Path:\", bfs_path)\n",
        "print(\"Nodes Explored:\", bfs_nodes_explored)\n",
        "\n",
        "# DFS\n",
        "dfs_path, dfs_nodes_explored = dfs(start, goal)\n",
        "\n",
        "print(\"\\nDFS Results:\")\n",
        "print(\"Path:\", dfs_path)\n",
        "print(\"Nodes Explored:\", dfs_nodes_explored)\n",
        "\n",
        "# Analyzing efficiency\n",
        "if bfs_nodes_explored < dfs_nodes_explored:\n",
        "    print(\"\\nBFS is more efficient with fewer nodes explored.\")\n",
        "elif bfs_nodes_explored > dfs_nodes_explored:\n",
        "    print(\"\\nDFS is more efficient with fewer nodes explored.\")\n",
        "else:\n",
        "    print(\"\\nBoth BFS and DFS explored the same number of nodes.\")\n"
      ],
      "metadata": {
        "colab": {
          "base_uri": "https://localhost:8080/"
        },
        "id": "Ha8rQKraJHXz",
        "outputId": "41a17d77-745a-46f8-b5f6-601a79bc09c3"
      },
      "execution_count": 107,
      "outputs": [
        {
          "output_type": "stream",
          "name": "stdout",
          "text": [
            "BFS Results:\n",
            "Path: [(7, 6), (7, 8), (4, 8)]\n",
            "Nodes Explored: 33\n",
            "\n",
            "DFS Results:\n",
            "Path: [(7, 6), (7, 9), (9, 9), (9, 0), (0, 0), (0, 8), (4, 8)]\n",
            "Nodes Explored: 52\n",
            "\n",
            "BFS is more efficient with fewer nodes explored.\n"
          ]
        }
      ]
    }
  ]
}