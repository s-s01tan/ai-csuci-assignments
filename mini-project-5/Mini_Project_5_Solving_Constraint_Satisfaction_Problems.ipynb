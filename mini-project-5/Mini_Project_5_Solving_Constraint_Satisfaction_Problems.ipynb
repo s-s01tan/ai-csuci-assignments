{
  "nbformat": 4,
  "nbformat_minor": 0,
  "metadata": {
    "colab": {
      "provenance": []
    },
    "kernelspec": {
      "name": "python3",
      "display_name": "Python 3"
    },
    "language_info": {
      "name": "python"
    }
  },
  "cells": [
    {
      "cell_type": "markdown",
      "source": [
        "## COMP 569 - Harpreet Kaur & Soltan Soltanli\n",
        "\n",
        "<hr/>\n",
        "\n",
        "### 1) Importing libraries"
      ],
      "metadata": {
        "id": "d7Vt4rznkjwz"
      }
    },
    {
      "cell_type": "code",
      "source": [
        "import random"
      ],
      "metadata": {
        "id": "p9IyJ2Vu3SPX"
      },
      "execution_count": 1,
      "outputs": []
    },
    {
      "cell_type": "markdown",
      "source": [
        "### 2) Generating Sudoku input"
      ],
      "metadata": {
        "id": "rx7VTlFi3Vkm"
      }
    },
    {
      "cell_type": "code",
      "source": [
        "def generate_input():\n",
        "    # An empty 9x9 grid with zeros\n",
        "    puzzle = [[0 for _ in range(9)] for _ in range(9)]\n",
        "\n",
        "    # Fill 20 cells at random\n",
        "    filled_cells = random.sample(range(81), 20)\n",
        "    for cell in filled_cells:\n",
        "        row, col = divmod(cell, 9)\n",
        "        # Fill cell with a random number between 1 and 9\n",
        "        puzzle[row][col] = random.randint(1, 9)\n",
        "\n",
        "    return puzzle\n",
        "\n",
        "# Example usage\n",
        "input_puzzle = generate_input()"
      ],
      "metadata": {
        "id": "RVH7DmVD3XQ9"
      },
      "execution_count": 2,
      "outputs": []
    },
    {
      "cell_type": "markdown",
      "source": [
        "### 3) Displays Sudoku"
      ],
      "metadata": {
        "id": "qyFXG5HfCKoc"
      }
    },
    {
      "cell_type": "code",
      "source": [
        "def display_output(solution):\n",
        "    for row in solution:\n",
        "        print(\" \".join(str(num) for num in row))\n",
        "\n",
        "print(\"Generated Sudoku Input:\")\n",
        "display_output(input_puzzle)"
      ],
      "metadata": {
        "colab": {
          "base_uri": "https://localhost:8080/"
        },
        "id": "wt6H4pHeCOGW",
        "outputId": "c35d0496-faf8-4829-bcbd-a95b0ed91848"
      },
      "execution_count": 3,
      "outputs": [
        {
          "output_type": "stream",
          "name": "stdout",
          "text": [
            "Generated Sudoku Input:\n",
            "0 0 0 0 0 0 0 0 2\n",
            "0 0 0 0 0 0 9 0 0\n",
            "0 0 0 0 8 0 0 1 9\n",
            "1 0 0 0 0 0 6 0 0\n",
            "0 0 0 6 0 3 0 0 0\n",
            "0 0 0 7 7 0 0 0 0\n",
            "0 0 1 0 0 0 0 0 6\n",
            "0 8 0 9 0 0 0 5 0\n",
            "0 1 6 4 3 0 0 0 0\n"
          ]
        }
      ]
    }
  ]
}