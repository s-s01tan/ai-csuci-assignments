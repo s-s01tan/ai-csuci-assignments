{
  "nbformat": 4,
  "nbformat_minor": 0,
  "metadata": {
    "colab": {
      "provenance": []
    },
    "kernelspec": {
      "name": "python3",
      "display_name": "Python 3"
    },
    "language_info": {
      "name": "python"
    }
  },
  "cells": [
    {
      "cell_type": "markdown",
      "source": [
        "## COMP 569 - Harpreet Kaur & Soltan Soltanli\n",
        "\n",
        "<hr/>\n",
        "\n",
        "### 1) Importing libraries & Defining constants"
      ],
      "metadata": {
        "id": "d7Vt4rznkjwz"
      }
    },
    {
      "cell_type": "code",
      "source": [
        "import random\n",
        "import numpy as np\n",
        "\n",
        "AI = 'R' # Maximizer\n",
        "PLAYER = 'Y' # Minimizer\n",
        "EMPTY = 0\n",
        "PLAYER_PIECE = 1\n",
        "AI_PIECE = 2"
      ],
      "metadata": {
        "id": "tetWqQDzkkc1"
      },
      "execution_count": 1,
      "outputs": []
    },
    {
      "cell_type": "markdown",
      "source": [
        "### 2) Generating Grid"
      ],
      "metadata": {
        "id": "MTW4w3A5ohvO"
      }
    },
    {
      "cell_type": "code",
      "source": [
        "def generate_random_connect_4_grid(has_played):\n",
        "    rows, cols = 6, 7\n",
        "    grid = [[' ' for _ in range(cols)] for _ in range(rows)]\n",
        "\n",
        "    if has_played:\n",
        "        # Randomly set the starting player\n",
        "        current_player = random.choice(['R', 'Y'])\n",
        "\n",
        "        # Making partially played game (with No Winner)\n",
        "        for col in range(cols):\n",
        "            num_filled = random.randint(0, rows)  # Change to allow full column filling\n",
        "            for row in range(rows - num_filled, rows):\n",
        "                grid[row][col] = current_player\n",
        "\n",
        "                # Switching player with turn\n",
        "                current_player = 'Y' if current_player == 'R' else 'R'\n",
        "\n",
        "    return grid\n",
        "\n",
        "has_played = True  # Empty Game (False), Partially Played Game (True)"
      ],
      "metadata": {
        "id": "2Ah-JrIxojif"
      },
      "execution_count": 2,
      "outputs": []
    },
    {
      "cell_type": "markdown",
      "source": [
        "### 3) Format Integration\n"
      ],
      "metadata": {
        "id": "2GnkfnUg2YoW"
      }
    },
    {
      "cell_type": "code",
      "source": [
        "# Converting the grid into the Minimax algorithm format\n",
        "def convert_grid_to_minimax_format(grid):\n",
        "    board = np.zeros((6, 7))\n",
        "    for r in range(6):\n",
        "        for c in range(7):\n",
        "            if grid[r][c] == PLAYER:\n",
        "                board[r][c] = PLAYER_PIECE\n",
        "            elif grid[r][c] == AI:\n",
        "                board[r][c] = AI_PIECE\n",
        "    return board"
      ],
      "metadata": {
        "id": "M3FjL71y2cC6"
      },
      "execution_count": 3,
      "outputs": []
    },
    {
      "cell_type": "markdown",
      "source": [
        "### 4) Printing board to look better visually"
      ],
      "metadata": {
        "id": "Z6pQIUYTfnHi"
      }
    },
    {
      "cell_type": "code",
      "source": [
        "def print_board(board):\n",
        "    print(' ---------------')\n",
        "    for row in range(6):\n",
        "        print('|', end='')\n",
        "        for col in range(7):\n",
        "            if board[row][col] == PLAYER_PIECE:\n",
        "                print(' Y', end='')\n",
        "            elif board[row][col] == AI_PIECE:\n",
        "                print(' R', end='')\n",
        "            else:\n",
        "                print(' .', end='')\n",
        "        print(' |')\n",
        "    print(' ---------------')"
      ],
      "metadata": {
        "id": "qZ93sJ5OfpcE"
      },
      "execution_count": 4,
      "outputs": []
    },
    {
      "cell_type": "markdown",
      "source": [
        "### 5) Detect Winner"
      ],
      "metadata": {
        "id": "4mTM1IS3rEzK"
      }
    },
    {
      "cell_type": "code",
      "source": [
        "def piece_to_char(piece):\n",
        "    if piece == PLAYER_PIECE:\n",
        "        return 'Y'\n",
        "    elif piece == AI_PIECE:\n",
        "        return 'R'\n",
        "    else:\n",
        "        return ' '\n",
        "\n",
        "def check_horizontal(board):\n",
        "    for r in range(6):\n",
        "        for c in range(4):\n",
        "            if board[r][c] != EMPTY and board[r][c] == board[r][c+1] == board[r][c+2] == board[r][c+3]:\n",
        "                return piece_to_char(board[r][c])\n",
        "    return None\n",
        "\n",
        "def check_vertical(board):\n",
        "    for r in range(3):\n",
        "        for c in range(7):\n",
        "            if board[r][c] != EMPTY and board[r][c] == board[r+1][c] == board[r+2][c] == board[r+3][c]:\n",
        "                return piece_to_char(board[r][c])\n",
        "    return None\n",
        "\n",
        "def check_diagonal(board):\n",
        "    # Bottom-Left to Top-Right\n",
        "    for r in range(3):\n",
        "        for c in range(4):\n",
        "            if board[r][c] != EMPTY and board[r][c] == board[r+1][c+1] == board[r+2][c+2] == board[r+3][c+3]:\n",
        "                return piece_to_char(board[r][c])\n",
        "\n",
        "    # Top-Left to Bottom-Right\n",
        "    for r in range(3, 6):\n",
        "        for c in range(4):\n",
        "            if board[r][c] != EMPTY and board[r][c] == board[r-1][c+1] == board[r-2][c+2] == board[r-3][c+3]:\n",
        "                return piece_to_char(board[r][c])\n",
        "\n",
        "    return None\n",
        "\n",
        "def check_winner(board):\n",
        "    return check_horizontal(board) or check_vertical(board) or check_diagonal(board)"
      ],
      "metadata": {
        "id": "rCw_0jI5rIaj"
      },
      "execution_count": 5,
      "outputs": []
    },
    {
      "cell_type": "markdown",
      "source": [
        "### 6) Valid Location Utils"
      ],
      "metadata": {
        "id": "98JYfwJD5ee4"
      }
    },
    {
      "cell_type": "code",
      "source": [
        "# Checking if a column is valid to move\n",
        "def is_valid_location(board, col):\n",
        "    return board[0][col] == EMPTY\n",
        "\n",
        "# Getting valid columns to move\n",
        "def get_valid_locations(board):\n",
        "    valid_locations = []\n",
        "    for col in range(7):\n",
        "        if is_valid_location(board, col):\n",
        "            valid_locations.append(col)\n",
        "    return valid_locations\n",
        "\n",
        "# Get next available row\n",
        "def get_next_open_row(board, col):\n",
        "    for r in range(5, -1, -1):\n",
        "        if board[r][col] == EMPTY:\n",
        "            return r\n",
        "    return None # Column is full"
      ],
      "metadata": {
        "id": "xrStIyog5fjq"
      },
      "execution_count": 6,
      "outputs": []
    },
    {
      "cell_type": "markdown",
      "source": [
        "### 7) Node Utils"
      ],
      "metadata": {
        "id": "wc0atqgp5vYz"
      }
    },
    {
      "cell_type": "code",
      "source": [
        "# Drop piece into the board\n",
        "def drop_piece_minimax(board, row, col, piece):\n",
        "    board[row][col] = piece\n",
        "\n",
        "# Check if the board is full\n",
        "def is_terminal_node(board):\n",
        "    return winning_move(board, PLAYER_PIECE) or winning_move(board, AI_PIECE) or len(get_valid_locations(board)) == 0"
      ],
      "metadata": {
        "id": "JKPMKELH5zXu"
      },
      "execution_count": 7,
      "outputs": []
    },
    {
      "cell_type": "markdown",
      "source": [
        "### 8) Winning move check"
      ],
      "metadata": {
        "id": "bPgHSuUL55eE"
      }
    },
    {
      "cell_type": "code",
      "source": [
        "def winning_move(board, piece):\n",
        "    # Check horizontal locations\n",
        "    for c in range(4):\n",
        "        for r in range(6):\n",
        "            if board[r][c] == piece and board[r][c+1] == piece and board[r][c+2] == piece and board[r][c+3] == piece:\n",
        "                return True\n",
        "    # Check vertical locations\n",
        "    for c in range(7):\n",
        "        for r in range(3):\n",
        "            if board[r][c] == piece and board[r+1][c] == piece and board[r+2][c] == piece and board[r+3][c] == piece:\n",
        "                return True\n",
        "    # Check positive diagonal\n",
        "    for c in range(4):\n",
        "        for r in range(3):\n",
        "            if board[r][c] == piece and board[r+1][c+1] == piece and board[r+2][c+2] == piece and board[r+3][c+3] == piece:\n",
        "                return True\n",
        "    # Check negative diagonal\n",
        "    for c in range(4):\n",
        "        for r in range(3, 6):\n",
        "            if board[r][c] == piece and board[r-1][c+1] == piece and board[r-2][c+2] == piece and board[r-3][c+3] == piece:\n",
        "                return True\n",
        "    return False"
      ],
      "metadata": {
        "id": "1pe6_qjw57P5"
      },
      "execution_count": 8,
      "outputs": []
    },
    {
      "cell_type": "markdown",
      "source": [
        "### 9) Heuristic function to evaluate board (Scoring)"
      ],
      "metadata": {
        "id": "kCNoKUtD5_2V"
      }
    },
    {
      "cell_type": "code",
      "source": [
        "def score_position(board, piece):\n",
        "    score = 0\n",
        "\n",
        "    # Score center column\n",
        "    center_array = [int(i) for i in list(board[:, 3])]\n",
        "    center_count = center_array.count(piece)\n",
        "    score += center_count * 3\n",
        "\n",
        "    # Score Horizontal\n",
        "    for r in range(6):\n",
        "        row_array = [int(i) for i in list(board[r,:])]\n",
        "        for c in range(4):\n",
        "            window = row_array[c:c+4]\n",
        "            score += evaluate_window(window, piece)\n",
        "\n",
        "    # Score Vertical\n",
        "    for c in range(7):\n",
        "        col_array = [int(i) for i in list(board[:,c])]\n",
        "        for r in range(3):\n",
        "            window = col_array[r:r+4]\n",
        "            score += evaluate_window(window, piece)\n",
        "\n",
        "    # Score positive sloped diagonal\n",
        "    for r in range(3):\n",
        "        for c in range(4):\n",
        "            window = [board[r+i][c+i] for i in range(4)]\n",
        "            score += evaluate_window(window, piece)\n",
        "\n",
        "    # Score negative sloped diagonal\n",
        "    for r in range(3):\n",
        "        for c in range(4):\n",
        "            window = [board[r+3-i][c+i] for i in range(4)]\n",
        "            score += evaluate_window(window, piece)\n",
        "\n",
        "    return score"
      ],
      "metadata": {
        "id": "XWOP16566Bi_"
      },
      "execution_count": 9,
      "outputs": []
    },
    {
      "cell_type": "markdown",
      "source": [
        "### 10) Evaluating Window"
      ],
      "metadata": {
        "id": "uWqBOY_K6Hb3"
      }
    },
    {
      "cell_type": "code",
      "source": [
        "def evaluate_window(window, piece):\n",
        "    score = 0\n",
        "    opp_piece = PLAYER_PIECE if piece == AI_PIECE else AI_PIECE\n",
        "\n",
        "    if window.count(piece) == 4:\n",
        "        score += 100\n",
        "    elif window.count(piece) == 3 and window.count(EMPTY) == 1:\n",
        "        score += 5\n",
        "    elif window.count(piece) == 2 and window.count(EMPTY) == 2:\n",
        "        score += 2\n",
        "\n",
        "    if window.count(opp_piece) == 3 and window.count(EMPTY) == 1:\n",
        "        score -= 4\n",
        "\n",
        "    return score"
      ],
      "metadata": {
        "id": "xsUGxACm6JSr"
      },
      "execution_count": 10,
      "outputs": []
    },
    {
      "cell_type": "markdown",
      "source": [
        "### 11) MiniMax Algorithm"
      ],
      "metadata": {
        "id": "bGktyf0amj1w"
      }
    },
    {
      "cell_type": "code",
      "source": [
        "# With Alpha-Beta pruning\n",
        "def minimax(board, depth, alpha, beta, maximizingPlayer):\n",
        "    valid_locations = get_valid_locations(board)\n",
        "    is_terminal = is_terminal_node(board)\n",
        "    if depth == 0 or is_terminal:\n",
        "        if is_terminal:\n",
        "            if winning_move(board, AI_PIECE):\n",
        "                return (None, 1000)\n",
        "            elif winning_move(board, PLAYER_PIECE):\n",
        "                return (None, -1000)\n",
        "            else: # Game is over, no more valid moves\n",
        "                return (None, 0)\n",
        "        else:\n",
        "            return (None, score_position(board, AI_PIECE))\n",
        "\n",
        "    if maximizingPlayer:\n",
        "        value = -np.inf\n",
        "        best_col = random.choice(valid_locations)\n",
        "        for col in valid_locations:\n",
        "            row = get_next_open_row(board, col)\n",
        "            b_copy = board.copy()\n",
        "            drop_piece_minimax(b_copy, row, col, AI_PIECE)\n",
        "            if winning_move(b_copy, AI_PIECE):\n",
        "                return col, 1000\n",
        "            new_score = minimax(b_copy, depth-1, alpha, beta, False)[1]\n",
        "            if new_score > value:\n",
        "                value = new_score\n",
        "                best_col = col\n",
        "            alpha = max(alpha, value)\n",
        "            if alpha >= beta:\n",
        "                break\n",
        "        return best_col, value\n",
        "    else:\n",
        "        value = np.inf\n",
        "        best_col = random.choice(valid_locations)\n",
        "        for col in valid_locations:\n",
        "            row = get_next_open_row(board, col)\n",
        "            b_copy = board.copy()\n",
        "            drop_piece_minimax(b_copy, row, col, PLAYER_PIECE)\n",
        "            if winning_move(b_copy, PLAYER_PIECE):\n",
        "                return col, -1000\n",
        "            new_score = minimax(b_copy, depth-1, alpha, beta, True)[1]\n",
        "            if new_score < value:\n",
        "                value = new_score\n",
        "                best_col = col\n",
        "            beta = min(beta, value)\n",
        "            if alpha >= beta:\n",
        "                break\n",
        "        return best_col, value"
      ],
      "metadata": {
        "id": "KjAm_Dhxml21"
      },
      "execution_count": 11,
      "outputs": []
    },
    {
      "cell_type": "markdown",
      "source": [
        "### 12) AI Move"
      ],
      "metadata": {
        "id": "O6xlaZYxmr40"
      }
    },
    {
      "cell_type": "code",
      "source": [
        "def make_ai_move(board, depth=4):\n",
        "    if np.all(board != EMPTY):\n",
        "        print(\"The board is full. No move possible.\")\n",
        "        return False\n",
        "\n",
        "    col, minimax_score = minimax(board, depth, -np.inf, np.inf, True)\n",
        "    print(f\"Minimax suggests column: {col+1}, with score: {minimax_score}\")\n",
        "\n",
        "    if not isinstance(col, (int, np.integer)):\n",
        "        print(\"Invalid column returned by minimax:\", col)\n",
        "        return False\n",
        "\n",
        "    if not is_valid_location(board, col):\n",
        "        print(f\"Column {col+1} is not a valid location.\")\n",
        "        return False\n",
        "\n",
        "    row = get_next_open_row(board, col)\n",
        "    if row is None:\n",
        "        print(f\"Column {col+1} is full. This shouldn't happen if is_valid_location is correct.\")\n",
        "        return False\n",
        "\n",
        "    drop_piece_minimax(board, row, col, AI_PIECE)\n",
        "    print(f\"\\nAI chose column {col + 1}\")\n",
        "    return True"
      ],
      "metadata": {
        "id": "RqNtwBi4ms81"
      },
      "execution_count": 12,
      "outputs": []
    },
    {
      "cell_type": "markdown",
      "source": [
        "### 13) Execution Time"
      ],
      "metadata": {
        "id": "b_sZ8NAanQXd"
      }
    },
    {
      "cell_type": "code",
      "source": [
        "# Simulate the Connect Four game\n",
        "def play_connect_four():\n",
        "    # Generate a random grid (you can set `has_played=False` to start with an empty grid)\n",
        "    grid = generate_random_connect_4_grid(has_played=True)\n",
        "    # print(\"Initial Grid:\")\n",
        "    # for row in grid:\n",
        "    #    print(row)\n",
        "\n",
        "    # Convert the grid into the minimax board format (2D numpy array)\n",
        "    board = convert_grid_to_minimax_format(grid)\n",
        "    # print(board)\n",
        "\n",
        "    print(\"\\nInitial Board State:\")\n",
        "    print_board(board)\n",
        "\n",
        "    # Check if there's already a winner in the initial grid\n",
        "    winner = check_winner(board)\n",
        "    if winner:\n",
        "        print(f\"\\nWinner already exists: {winner}.\\nNow we'll re-generate game!\")\n",
        "        play_connect_four()\n",
        "    else:\n",
        "        print(\"\\nNo winner yet. AI's move...\")\n",
        "        # Make the AI move using Minimax\n",
        "        if make_ai_move(board):\n",
        "            # Print the board after the AI move\n",
        "            print(\"\\nBoard after AI's move:\")\n",
        "            print_board(board)\n",
        "        else:\n",
        "            print(\"AI couldn't make a move. The game might be over.\")\n",
        "\n",
        "# Run the game\n",
        "play_connect_four()"
      ],
      "metadata": {
        "colab": {
          "base_uri": "https://localhost:8080/"
        },
        "id": "kahJJzmrnRvP",
        "outputId": "35ab558d-5a4a-4bc4-a154-595ac1993168"
      },
      "execution_count": 13,
      "outputs": [
        {
          "output_type": "stream",
          "name": "stdout",
          "text": [
            "\n",
            "Initial Board State:\n",
            " ---------------\n",
            "| . . . R . . . |\n",
            "| . . Y Y . R . |\n",
            "| . . R R . Y . |\n",
            "| . . Y Y . R . |\n",
            "| . . R R R Y . |\n",
            "| . R Y Y Y R Y |\n",
            " ---------------\n",
            "\n",
            "No winner yet. AI's move...\n",
            "Minimax suggests column: 2, with score: 1000\n",
            "\n",
            "AI chose column 2\n",
            "\n",
            "Board after AI's move:\n",
            " ---------------\n",
            "| . . . R . . . |\n",
            "| . . Y Y . R . |\n",
            "| . . R R . Y . |\n",
            "| . . Y Y . R . |\n",
            "| . R R R R Y . |\n",
            "| . R Y Y Y R Y |\n",
            " ---------------\n"
          ]
        }
      ]
    }
  ]
}