{
  "nbformat": 4,
  "nbformat_minor": 0,
  "metadata": {
    "colab": {
      "provenance": []
    },
    "kernelspec": {
      "name": "python3",
      "display_name": "Python 3"
    },
    "language_info": {
      "name": "python"
    }
  },
  "cells": [
    {
      "cell_type": "markdown",
      "source": [
        "## COMP 569 - Harpreet Kaur & Soltan Soltanli\n",
        "\n",
        "<hr/>\n",
        "\n",
        "### 1) Importing regular libraries"
      ],
      "metadata": {
        "id": "4bBTZ5VE6aJN"
      }
    },
    {
      "cell_type": "code",
      "source": [
        "import heapq\n",
        "import math\n",
        "import random"
      ],
      "metadata": {
        "id": "eHXMy6YN-Ip6"
      },
      "execution_count": 1,
      "outputs": []
    },
    {
      "cell_type": "markdown",
      "source": [
        "### 2) Manhattan / Euclidean Function"
      ],
      "metadata": {
        "id": "OezNWmkZ-P8X"
      }
    },
    {
      "cell_type": "code",
      "source": [
        "def manhattan_distance(node, goal):\n",
        "    x1, y1 = node\n",
        "    x2, y2 = goal\n",
        "    return abs(x1 - x2) + abs(y1 - y2)\n",
        "\n",
        "def euclidean_distance(node, goal):\n",
        "    x1, y1 = node\n",
        "    x2, y2 = goal\n",
        "    return math.sqrt((x1 - x2)**2 + (y1 - y2)**2)"
      ],
      "metadata": {
        "id": "DsUQwKt9-UYM"
      },
      "execution_count": 2,
      "outputs": []
    },
    {
      "cell_type": "markdown",
      "source": [
        "### 3) A* Algorithm"
      ],
      "metadata": {
        "id": "7sVd8loB-Y30"
      }
    },
    {
      "cell_type": "code",
      "source": [
        "def a_star(grid, start, goal, heuristic, mode):\n",
        "    # Priority queue for frontier nodes (to explore next)\n",
        "    frontier = []\n",
        "    heapq.heappush(frontier, (0, start))  # (priority, node)\n",
        "\n",
        "    # Keeping track of how we reached each node and the cost so far\n",
        "    came_from = {start: None}\n",
        "    cost_so_far = {start: 0}\n",
        "    nodes_explored = 0\n",
        "\n",
        "    rows, cols = len(grid), len(grid[0])\n",
        "\n",
        "    # Only tracking visited nodes in graph mode\n",
        "    visited = set() if mode == 'graph' else None\n",
        "\n",
        "    while frontier:\n",
        "        # Get the node with the lowest f(n) = g(n) + h(n)\n",
        "        _, current = heapq.heappop(frontier)\n",
        "\n",
        "        # If we reached the goal, exit\n",
        "        if current == goal:\n",
        "            break\n",
        "\n",
        "        nodes_explored += 1  # Counting how many nodes we are exploring\n",
        "\n",
        "        x, y = current\n",
        "\n",
        "        # Check neighbors (up, down, left, right)\n",
        "        for dx, dy in [(-1, 0), (1, 0), (0, -1), (0, 1)]:\n",
        "            next_node = (x + dx, y + dy)\n",
        "\n",
        "            # Make sure the next node is within bounds and not blocked\n",
        "            if 0 <= next_node[0] < rows and 0 <= next_node[1] < cols:\n",
        "                if grid[next_node[0]][next_node[1]] != 1:  # Avoid obstacles (represented by 1)\n",
        "                    new_cost = cost_so_far[current] + 1  # Each move costs 1\n",
        "\n",
        "                    if mode == 'tree' or next_node not in cost_so_far or new_cost < cost_so_far[next_node]:\n",
        "                        cost_so_far[next_node] = new_cost\n",
        "                        priority = new_cost + heuristic(next_node, goal)  # f(n) = g(n) + h(n)\n",
        "                        heapq.heappush(frontier, (priority, next_node))\n",
        "                        came_from[next_node] = current\n",
        "                        if mode == 'graph':\n",
        "                            visited.add(next_node)\n",
        "\n",
        "    # Reconstruct the path from goal to start by following parents\n",
        "    path = []\n",
        "    if current == goal:\n",
        "        while current:\n",
        "            path.append(current)\n",
        "            current = came_from[current]\n",
        "        path.reverse()\n",
        "\n",
        "    return path, nodes_explored"
      ],
      "metadata": {
        "id": "rjsn8kyZ-YN1"
      },
      "execution_count": 3,
      "outputs": []
    },
    {
      "cell_type": "markdown",
      "source": [
        "### 4) The function which will generate Grid based on given inputs (Sizes)"
      ],
      "metadata": {
        "id": "24UqWW77B1RZ"
      }
    },
    {
      "cell_type": "code",
      "source": [
        "def generate_grid(rows, cols):\n",
        "    grid = [[1 if r == 0 or r == rows - 1 or c == 0 or c == cols - 1 else random.choice([0, 1])\n",
        "             for c in range(cols)] for r in range(rows)]\n",
        "\n",
        "    r_pos = (random.randint(1, rows - 2), random.randint(1, cols - 2))\n",
        "    d_pos = r_pos\n",
        "    while d_pos == r_pos:\n",
        "        d_pos = (random.randint(1, rows - 2), random.randint(1, cols - 2))\n",
        "\n",
        "    grid[r_pos[0]][r_pos[1]] = 'R'\n",
        "    grid[d_pos[0]][d_pos[1]] = 'D'\n",
        "\n",
        "    return grid"
      ],
      "metadata": {
        "id": "7e9Grg8FB7Xy"
      },
      "execution_count": 4,
      "outputs": []
    },
    {
      "cell_type": "markdown",
      "source": [
        "### 5) Initalizing Grid and Locations"
      ],
      "metadata": {
        "id": "BKDW0xE4-eCp"
      }
    },
    {
      "cell_type": "code",
      "source": [
        "grid = generate_grid(5, 5)\n",
        "\n",
        "for row in grid:\n",
        "    print(row)\n",
        "\n",
        "start = None\n",
        "goal = None\n",
        "\n",
        "rows, cols = len(grid), len(grid[0])\n",
        "\n",
        "for i in range(rows):\n",
        "    for j in range(cols):\n",
        "        if grid[i][j] == 'R':\n",
        "            start = (i, j)\n",
        "        if grid[i][j] == 'D':\n",
        "            goal = (i, j)\n",
        "\n",
        "if not start or not goal:\n",
        "    print(\"Invalid grid, no start or goal point found.\")\n",
        "\n",
        "print(\"Start (R):\", start)\n",
        "print(\"Goal (D):\", goal)\n"
      ],
      "metadata": {
        "id": "z4BslZrt-hP2",
        "colab": {
          "base_uri": "https://localhost:8080/"
        },
        "outputId": "88e08ae7-0a86-4a63-ef33-c78b93eeaa9f"
      },
      "execution_count": 5,
      "outputs": [
        {
          "output_type": "stream",
          "name": "stdout",
          "text": [
            "[1, 1, 1, 1, 1]\n",
            "[1, 1, 0, 1, 1]\n",
            "[1, 1, 'R', 'D', 1]\n",
            "[1, 0, 0, 1, 1]\n",
            "[1, 1, 1, 1, 1]\n",
            "Start (R): (2, 2)\n",
            "Goal (D): (2, 3)\n"
          ]
        }
      ]
    },
    {
      "cell_type": "markdown",
      "source": [
        "### 6) Executing A* Algorithm function with Manhattan and Euclidean<br/>Comparing Heuristics (Graph)"
      ],
      "metadata": {
        "id": "yth8X5jg_cT6"
      }
    },
    {
      "cell_type": "code",
      "source": [
        "print(\"Graph Mode:\")\n",
        "manhattan_path_graph, manhattan_explored_graph = a_star(grid, start, goal, manhattan_distance, mode='graph')\n",
        "euclidean_path_graph, euclidean_explored_graph = a_star(grid, start, goal, euclidean_distance, mode='graph')\n",
        "\n",
        "print(\"Manhattan Path:\", manhattan_path_graph)\n",
        "print(\"Manhattan Nodes Explored:\", manhattan_explored_graph, \"\\n\")\n",
        "\n",
        "print(\"Euclidean Path:\", euclidean_path_graph)\n",
        "print(\"Euclidean Nodes Explored:\", euclidean_explored_graph)"
      ],
      "metadata": {
        "id": "kQnXVaXb_spD",
        "colab": {
          "base_uri": "https://localhost:8080/"
        },
        "outputId": "e245641c-3ee5-453b-a3c2-ee61bd6d12ae"
      },
      "execution_count": 6,
      "outputs": [
        {
          "output_type": "stream",
          "name": "stdout",
          "text": [
            "Graph Mode:\n",
            "Manhattan Path: [(2, 2), (2, 3)]\n",
            "Manhattan Nodes Explored: 1 \n",
            "\n",
            "Euclidean Path: [(2, 2), (2, 3)]\n",
            "Euclidean Nodes Explored: 1\n"
          ]
        }
      ]
    },
    {
      "cell_type": "markdown",
      "source": [
        "### 7) Executing A* Algorithm function with Manhattan and Euclidean<br/>Comparing Heuristics (Tree)"
      ],
      "metadata": {
        "id": "Z45zn-xfARWR"
      }
    },
    {
      "cell_type": "code",
      "source": [
        "print(\"Tree Mode:\")\n",
        "manhattan_path_tree, manhattan_explored_tree = a_star(grid, start, goal, manhattan_distance, mode='tree')\n",
        "# euclidean_path_tree, euclidean_explored_tree = a_star(grid, start, goal, euclidean_distance, mode='tree')\n",
        "\n",
        "print(\"Manhattan Path:\", manhattan_path_tree)\n",
        "print(\"Manhattan Nodes Explored:\", manhattan_explored_tree, \"\\n\")\n",
        "\n",
        "# print(\"Euclidean Path:\", euclidean_path_tree)\n",
        "# print(\"Euclidean Nodes Explored:\", euclidean_explored_tree)"
      ],
      "metadata": {
        "colab": {
          "base_uri": "https://localhost:8080/"
        },
        "id": "Erv6N-jmASyo",
        "outputId": "4f190cc2-4aa4-4ca5-c784-766def745279"
      },
      "execution_count": 7,
      "outputs": [
        {
          "output_type": "stream",
          "name": "stdout",
          "text": [
            "Tree Mode:\n",
            "Manhattan Path: [(2, 2), (2, 3)]\n",
            "Manhattan Nodes Explored: 1 \n",
            "\n"
          ]
        }
      ]
    },
    {
      "cell_type": "code",
      "source": [
        "euclidean_path_tree, euclidean_explored_tree = a_star(grid, start, goal, euclidean_distance, mode='tree')\n",
        "\n",
        "print(\"Euclidean Path:\", euclidean_path_tree)\n",
        "print(\"Euclidean Nodes Explored:\", euclidean_explored_tree)"
      ],
      "metadata": {
        "colab": {
          "base_uri": "https://localhost:8080/"
        },
        "id": "NQ4T0zejSVKs",
        "outputId": "ed35d085-b891-47e4-b004-05a0d3914c9a"
      },
      "execution_count": 8,
      "outputs": [
        {
          "output_type": "stream",
          "name": "stdout",
          "text": [
            "Euclidean Path: [(2, 2), (2, 3)]\n",
            "Euclidean Nodes Explored: 1\n"
          ]
        }
      ]
    },
    {
      "cell_type": "markdown",
      "source": [
        "### 8) Comparison"
      ],
      "metadata": {
        "id": "Md0NQ6vbFUxK"
      }
    },
    {
      "cell_type": "code",
      "source": [
        "if manhattan_explored_graph < euclidean_explored_graph:\n",
        "    print(\"\\nManhattan heuristic is more efficient in Graph mode (fewer nodes explored).\")\n",
        "else:\n",
        "    print(\"\\nEuclidean heuristic is more efficient in Graph mode (fewer nodes explored).\")\n",
        "\n",
        "if manhattan_explored_tree < euclidean_explored_tree:\n",
        "    print(\"Manhattan heuristic is more efficient in Tree mode (fewer nodes explored).\")\n",
        "else:\n",
        "    print(\"Euclidean heuristic is more efficient in Tree mode (fewer nodes explored).\")"
      ],
      "metadata": {
        "colab": {
          "base_uri": "https://localhost:8080/"
        },
        "id": "3CA6Ysd3FV_i",
        "outputId": "9b3608ce-aa4f-4b6f-f72c-4cadfb0ec55c"
      },
      "execution_count": 9,
      "outputs": [
        {
          "output_type": "stream",
          "name": "stdout",
          "text": [
            "\n",
            "Euclidean heuristic is more efficient in Graph mode (fewer nodes explored).\n",
            "Euclidean heuristic is more efficient in Tree mode (fewer nodes explored).\n"
          ]
        }
      ]
    }
  ]
}